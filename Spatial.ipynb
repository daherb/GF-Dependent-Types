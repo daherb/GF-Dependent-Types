{
 "cells": [
  {
   "cell_type": "markdown",
   "metadata": {},
   "source": [
    "# Spatial Description and Graphics"
   ]
  },
  {
   "cell_type": "markdown",
   "metadata": {},
   "source": [
    "## Abstract Syntax"
   ]
  },
  {
   "cell_type": "code",
   "execution_count": 1,
   "metadata": {},
   "outputs": [
    {
     "name": "stdout",
     "output_type": "stream",
     "text": [
      "/tmp/tmpgdlt2z_n/Spatial.gf\n"
     ]
    },
    {
     "data": {
      "text/plain": [
       "Defined Spatial"
      ]
     },
     "metadata": {},
     "output_type": "display_data"
    }
   ],
   "source": [
    "abstract Spatial = open Predef in {\n",
    "  flags startcat = Scene ;\n",
    "  cat\n",
    "    Scene ; Object ; Relation ; FreeScene; \n",
    "    StackeddObject Object ; BaseObject Object ; ExternalObject Object ;\n",
    "    InsideObject Object ; BesideObject Object ; OnTopOfObject Object ;\n",
    "    AboveObject Object ; BelowObject Object ;\n",
    "    ValidRel Relation Object Object ; ValidPos Relation Num Num Num Num ;\n",
    "    Num ; IsEqual Num Num ; IsLess Num Num ;\n",
    "    InRange Num Num Num Num ;\n",
    "  fun\n",
    "    -- Basic numbers\n",
    "    z : Num ;\n",
    "    s : Num -> Num ;\n",
    "    n1 : Num ;\n",
    "    n2 : Num ;\n",
    "    n3 : Num ;\n",
    "    n4 : Num ;\n",
    "    n5 : Num ;\n",
    "    equal : (n : Num) -> IsEqual n n ;\n",
    "    lessz : IsLess z (s z);\n",
    "    lesss : (n1, n2 : Num) -> IsLess n1 n2 -> IsLess (s n1) (s n2) ;\n",
    "    lesst : (n1,n2,n3 : Num) -> IsLess n1 n2 -> IsLess n2 n3 -> IsLess n1 n3 ;\n",
    "    -- Basic objects and relations\n",
    "    otree, ohouse, osun, operson, ogirl, otable, obox, oball : Object ;\n",
    "    rbeside, rleftof, rrightof, rin, rabove, rontopof, rnextto : Relation ;\n",
    "    -- Restrictions on objects\n",
    "    treebeside : BesideObject otree ;\n",
    "    housebeside : BesideObject ohouse ;\n",
    "    personbeside : BesideObject operson ;\n",
    "    girlbeside : BesideObject ogirl ;\n",
    "    tablebeside : BesideObject otable ;\n",
    "    boxbeside : BesideObject obox ;\n",
    "    ballbeside : BesideObject oball ;\n",
    "    -- personin : InsideObject operson ;\n",
    "    -- girlin : InsideObject ogirl ;\n",
    "    tablein : InsideObject otable ;\n",
    "    boxin : InsideObject obox ;\n",
    "    ballin : InsideObject oball ;\n",
    "    houseout : ExternalObject ohouse ;\n",
    "    boxout : ExternalObject obox ;\n",
    "    sunabove : AboveObject osun ;\n",
    "    treebelow : BelowObject otree ;\n",
    "    housebelow : BelowObject ohouse ;\n",
    "    personbelow : BelowObject operson ;\n",
    "    girlbelow : BelowObject ogirl ;\n",
    "    tablebase : BelowObject otable ;\n",
    "    ballontop : OnTopOfObject oball ;\n",
    "    boxontop : OnTopOfObject obox ;\n",
    "    boxinhouse : ValidRel rin obox ohouse ;\n",
    "    girlinhouse : ValidRel rin ogirl ohouse ;\n",
    "    personinhouse : ValidRel rin operson ohouse ;\n",
    "    treeinbox : ValidRel rin otree obox ;\n",
    "    validbeside : (o1,o2 : Object) -> BesideObject o1 -> BesideObject o2 -> ValidRel rbeside o1 o2 ;\n",
    "    validin : (o1,o2 : Object) -> InsideObject o1 -> ExternalObject o2 -> ValidRel rin o1 o2 ;\n",
    "    validabove : (o1,o2 : Object) -> AboveObject o1 -> BelowObject o2 -> ValidRel rabove o1 o2 ;\n",
    "    validontop : (o1,o2 : Object) -> OnTopOfObject o1 -> BaseObject o2 -> ValidRel rontopof o1 o2 ;\n",
    "    -- Coerce relations\n",
    "    nexttoisbeside : (o1 : Object) -> (o2 : Object) -> ValidRel rbeside o1 o2 -> ValidRel rnextto o1 o2 ;\n",
    "    leftofisbeside : (o1 : Object) -> (o2 : Object) -> ValidRel rbeside o1 o2 -> ValidRel rleftof o1 o2 ;\n",
    "    rightofisbeside : (o1 : Object) -> (o2 : Object) -> ValidRel rbeside o1 o2 -> ValidRel rrightof o1 o2 ;\n",
    "    ontopofisabove : (o1 : Object) -> (o2 : Object) -> ValidRel rontopof o1 o2 -> ValidRel rabove o2 o1 ;\n",
    "    -- Restrictions on positions\n",
    "    inrange : (x1,y1,x2,y2 : Num) -> IsLess x1 n5 -> IsLess x2 n5 -> IsLess y1 n3 -> IsLess y2 n3 -> InRange x1 y1 x2 y2 ;\n",
    "    validinpos : (x1,y1,x2,y2 : Num) -> IsEqual x1 x2 -> IsEqual y1 y2 -> IsEqual y1 z -> InRange x1 y1 x2 y2 -> ValidPos rin x1 y1 x2 y2 ;\n",
    "    validleftofpos : (x1,y1,x2,y2 : Num) -> IsEqual y1 y2 -> IsEqual y1 z -> IsLess x1 x2 -> InRange x1 y1 x2 y2 -> ValidPos rleftof x1 y1 x2 y2 ;\n",
    "    validrightofpos : (x1,y1,x2,y2 : Num) -> IsEqual y1 y2 -> IsEqual y1 z -> IsLess x2 x1 -> InRange x1 y1 x2 y2 -> ValidPos rrightof x1 y1 x2 y2 ;\n",
    "    validnexttoleftpos : (x1,y1,x2,y2 : Num) -> IsEqual y1 y2 -> IsEqual y1 z -> IsEqual x2 (s x1) -> InRange x1 y1 x2 y2 -> ValidPos rnextto x1 y1 x2 y2 ;\n",
    "    validnexttorightpos : (x1,y1,x2,y2 : Num) -> IsEqual y1 y2 -> IsEqual y1 z -> IsEqual (s x2) x1 -> InRange x1 y1 x2 y2 -> ValidPos rnextto x1 y1 x2 y2 ;\n",
    "    validabovepos : (x1,y1,x2,y2 : Num) -> IsLess y2 y1 -> IsEqual y2 z -> IsEqual x1 x2 -> InRange x1 y1 x2 y2 -> ValidPos rabove x1 y1 x2 y2 ;\n",
    "    validontopofpos : (x1,y1,x2,y2 : Num) -> IsEqual (s y2) y1 -> IsEqual y2 z -> IsEqual x1 x2 -> InRange x1 y1 x2 y2 -> ValidPos rontopof x1 y1 x2 y2 ;\n",
    "    -- Put everything together as a scene\n",
    "    constraintPlace : (o1 : Object) -> (o2 : Object) -> (x1,y1,x2,y2 : Num) -> (r : Relation) -> ValidRel r o1 o2 -> ValidPos r x1 y1 x2 y2 -> Scene ;\n",
    "    freePlace : (o1 : Object) -> (o2 : Object) -> (r : Relation) -> ValidRel r o1 o2 -> FreeScene ;\n",
    "  def\n",
    "    n1 = s z ;\n",
    "    n2 = s (s z) ;\n",
    "    n3 = s (s (s z)) ;\n",
    "    n4 = s (s (s (s z))) ;\n",
    "    n5 = s (s (s (s (s z)))) ;\n",
    "}"
   ]
  },
  {
   "cell_type": "markdown",
   "metadata": {},
   "source": [
    "## Concrete Syntax"
   ]
  },
  {
   "cell_type": "markdown",
   "metadata": {},
   "source": [
    "### Boilerplate"
   ]
  },
  {
   "cell_type": "code",
   "execution_count": 2,
   "metadata": {},
   "outputs": [
    {
     "name": "stdout",
     "output_type": "stream",
     "text": [
      "/tmp/tmpgdlt2z_n/SpatialI.gf\n"
     ]
    },
    {
     "data": {
      "text/plain": [
       "Defined SpatialI"
      ]
     },
     "metadata": {},
     "output_type": "display_data"
    }
   ],
   "source": [
    "incomplete concrete SpatialI of Spatial = {\n",
    "  lincat\n",
    "    StackeddObject, BaseObject, ExternalObject, InsideObject,\n",
    "      BesideObject, OnTopOfObject, AboveObject, BelowObject  = Str ;\n",
    "    ValidPos, ValidRel, Num, InRange, IsEqual, IsLess  = Str ;\n",
    "  lin\n",
    "    -- Basic numbers\n",
    "    z = \"0\" ;\n",
    "    n1 = \"1\" ;\n",
    "    n2 = \"2\" ;\n",
    "    n3 = \"3\" ;\n",
    "    n4 = \"4\" ;\n",
    "    n5 = \"5\" ;\n",
    "    s n = \"1+\" ++ n ;\n",
    "    equal n = n ;\n",
    "    lessz = \"\" ;\n",
    "    lesss n1 n2 l = n1 ++ n2 ++ l ;\n",
    "    lesst n1 n2 n3 l1 l2 = n1 ++ n2 ++ n3 ++ l1 ++ l2 ;\n",
    "        -- Restrictions on objects\n",
    "    treebeside = \"\" ;\n",
    "    housebeside = \"\" ;\n",
    "    personbeside = \"\" ;\n",
    "    girlbeside = \"\" ;\n",
    "    tablebeside = \"\" ;\n",
    "    boxbeside = \"\" ;\n",
    "    ballbeside = \"\" ; \n",
    "--    personin = \"\" ;\n",
    "--    girlin = \"\" ;\n",
    "    tablein = \"\" ;\n",
    "    boxin = \"\" ;\n",
    "    ballin = \"\" ;\n",
    "    houseout = \"\" ;\n",
    "    boxout = \"\" ;\n",
    "    sunabove = \"\" ;\n",
    "    treebelow = \"\" ;\n",
    "    housebelow = \"\" ;\n",
    "    personbelow = \"\" ;\n",
    "    girlbelow = \"\" ;\n",
    "    tablebase = \"\" ;\n",
    "    ballontop = \"\" ;\n",
    "    boxontop = \"\" ;\n",
    "    boxinhouse = \"\" ;\n",
    "    girlinhouse = \"\" ;\n",
    "    personinhouse = \"\" ;\n",
    "    treeinbox = \"\" ;\n",
    "    validbeside o1 o2 r1 r2 = r1 ++ r2 ;\n",
    "    validin o1 o2 r1 r2 = r1 ++ r2 ;\n",
    "    validabove o1 o2 r1 r2 = r1 ++ r2 ;\n",
    "    validontop o1 o2 r1 r2 = r1 ++ r2 ;\n",
    "    -- Coerce relations\n",
    "    nexttoisbeside o1 o2 r = r ;\n",
    "    leftofisbeside o1 o2 r = r ;\n",
    "    rightofisbeside o1 o2 r = r ;\n",
    "    ontopofisabove o1 o2 r = r ;\n",
    "    -- Restrictions on positions\n",
    "    inrange x1 y1 x2 y2 l1 l2 l3 l4 = x1 ++ y1 ++ x2 ++ y2 ++ l1 ++ l2 ++ l3 ++ l4 ;\n",
    "    validinpos x1 y1 x2 y2 e1 e2 e3 r = x1 ++ y1 ++ x2 ++ y2 ++ e1 ++ e2 ++ e3 ++ r ;\n",
    "    validnexttoleftpos x1 y1 x2 y2 e1 e2 e3 r = x1 ++ y1 ++ x2 ++ y2 ++ e1 ++ e2 ++ e3 ++ r ;\n",
    "    validnexttorightpos x1 y1 x2 y2 e1 e2 e3 r = x1 ++ y1 ++ x2 ++ y2 ++ e1 ++ e2 ++ e3 ++ r ;\n",
    "    validleftofpos x1 y1 x2 y2 e1 e2 l r = x1 ++ y1 ++ x2 ++ y2 ++ e1 ++ e2 ++ l ++ r ;\n",
    "    validrightofpos x1 y1 x2 y2 e1 e2 l r = x1 ++ y1 ++ x2 ++ y2 ++ e1 ++ e2 ++ l ++ r ;\n",
    "    validabovepos x1 y1 x2 y2 l e1 e2 r = x1 ++ y1 ++ x2 ++ y2 ++ l ++ e1 ++ e2 ++ r ;\n",
    "    validontopofpos x1 y1 x2 y2 e1 e2 e3 r = x1 ++ y1 ++ x2 ++ y2 ++ e1 ++ e2 ++ e3 ++ r ;\n",
    "\n",
    "} ;"
   ]
  },
  {
   "cell_type": "code",
   "execution_count": 24,
   "metadata": {},
   "outputs": [
    {
     "name": "stdout",
     "output_type": "stream",
     "text": [
      "/tmp/tmpgdlt2z_n/SpatialLangI.gf\n"
     ]
    },
    {
     "data": {
      "text/plain": [
       "Defined SpatialLangI"
      ]
     },
     "metadata": {},
     "output_type": "display_data"
    }
   ],
   "source": [
    "incomplete concrete SpatialLangI of Spatial = SpatialI ** open Constructors in {\n",
    "  lin\n",
    "    -- Put everything together as a scene\n",
    "    constraintPlace o1 o2 x1 y1 x2 y2 r vr vp = mkScene (lin Object o1) (lin Object o2) (lin Relation r) ;\n",
    "    freePlace o1 o2 r vr = mkScene (lin Object o1) (lin Object o2) (lin Relation r) ;\n",
    "\n",
    "  oper\n",
    "    mkScene : Object -> Object -> Relation -> S =\n",
    "      \\o1,o2,r -> \n",
    "      mkS presentTense simultaneousAnt positivePol (mkCl (lin NP o1) (Constructors.mkAdv (lin Prep r) (lin NP o2))) ;\n",
    "}"
   ]
  },
  {
   "cell_type": "markdown",
   "metadata": {},
   "source": [
    "### English"
   ]
  },
  {
   "cell_type": "code",
   "execution_count": 25,
   "metadata": {},
   "outputs": [
    {
     "name": "stdout",
     "output_type": "stream",
     "text": [
      "/tmp/tmpgdlt2z_n/SpatialEng.gf\n"
     ]
    },
    {
     "data": {
      "text/plain": [
       "/tmp/tmpgdlt2z_n/SpatialEng.gf:\n",
       "   /tmp/tmpgdlt2z_n/SpatialLangI.gf:4:\n",
       "     Happened in linearization of constraintPlace\n",
       "       type of r\n",
       "      expected: Str\n",
       "      inferred: {s : Str; isPre : Prelude.Bool; lock_Prep : {}}\n"
      ]
     },
     "metadata": {},
     "output_type": "display_data"
    }
   ],
   "source": [
    "concrete SpatialEng of Spatial = SpatialI ** SpatialLangI with (Constructors=ConstructorsEng) ** open ParadigmsEng, SyntaxEng, Prelude in {\n",
    "  lincat\n",
    "    Scene, FreeScene = S ;\n",
    "    Object = NP ;\n",
    "    Relation = Prep ;\n",
    "  lin\n",
    "    -- Basic objects and relations\n",
    "    otree = mkObject \"tree\" ;\n",
    "    ohouse = mkObject \"house\" ;\n",
    "    ogirl = mkObject \"girl\" ;\n",
    "    obox = mkObject \"box\" ;\n",
    "    oball = mkObject \"ball\" ;\n",
    "    operson = mkObject \"person\" ;\n",
    "    osun = mkObject \"sun\" ;\n",
    "    otable = mkObject \"table\" ;\n",
    "    rontopof = mkPrep \"on top of\" ;\n",
    "    rin = mkPrep \"in\" ;\n",
    "    rabove = mkPrep \"above\" ;\n",
    "    rbeside = mkPrep \"beside\" ;\n",
    "    rnextto = mkPrep \"next to\" ;\n",
    "    rleftof = mkPrep \"to the left of\" ;\n",
    "    rrightof = mkPrep \"to the right of\" ;\n",
    "  oper\n",
    "    mkObject : Str -> NP = \\o ->\n",
    "      mkNP theSg_Det (mkN o) ;\n",
    "} ;\n"
   ]
  },
  {
   "cell_type": "markdown",
   "metadata": {},
   "source": [
    "### Swedish"
   ]
  },
  {
   "cell_type": "code",
   "execution_count": 5,
   "metadata": {},
   "outputs": [
    {
     "name": "stdout",
     "output_type": "stream",
     "text": [
      "/tmp/tmpgdlt2z_n/SpatialSwe.gf\n"
     ]
    },
    {
     "data": {
      "text/plain": [
       "Defined SpatialSwe"
      ]
     },
     "metadata": {},
     "output_type": "display_data"
    }
   ],
   "source": [
    "concrete SpatialSwe of Spatial = SpatialI ** SpatialLangI with (Constructors=ConstructorsSwe)** open ParadigmsSwe, SyntaxSwe, Prelude in {\n",
    "  lincat\n",
    "    Scene, FreeScene, EditScene = S ;\n",
    "    Object = NP ;\n",
    "    Relation = Prep ;\n",
    "  lin\n",
    "    -- Basic objects and relations\n",
    "    otree = mkObject \"träd\" neutrum ;\n",
    "    ohouse = mkObject \"hus\" neutrum ;\n",
    "    ogirl = mkObject \"flicka\" utrum ;\n",
    "    obox = mkObject \"låda\" utrum ;\n",
    "    oball = mkObject \"boll\" utrum ;\n",
    "    operson = mkObject \"person\" utrum ;\n",
    "    osun = mkObject \"sol\" utrum ;\n",
    "    otable = mkObject \"bord\" neutrum ;\n",
    "    rontopof = mkPrep \"ovanpå\" ;\n",
    "    rin = mkPrep \"i\" ;\n",
    "    rabove = mkPrep \"över\" ;\n",
    "    rbeside = mkPrep \"intill\" ;\n",
    "    rnextto = mkPrep \"alldeles intill\" ;\n",
    "    rleftof = mkPrep \"till vänster av\" ;\n",
    "    rrightof = mkPrep \"till höger av\" ;\n",
    "  oper\n",
    "    mkObject : Str -> Gender -> NP = \\o,g ->\n",
    "      mkNP theSg_Det (mkN o g) ;\n",
    "} ;\n"
   ]
  },
  {
   "cell_type": "markdown",
   "metadata": {},
   "source": [
    "### HTML"
   ]
  },
  {
   "cell_type": "code",
   "execution_count": 30,
   "metadata": {},
   "outputs": [
    {
     "name": "stdout",
     "output_type": "stream",
     "text": [
      "/tmp/tmpgdlt2z_n/SpatialHTML.gf\n"
     ]
    },
    {
     "data": {
      "text/plain": [
       "Defined SpatialHTML"
      ]
     },
     "metadata": {},
     "output_type": "display_data"
    }
   ],
   "source": [
    "concrete SpatialHTML of Spatial = SpatialI-[z,s] ** {\n",
    "  param\n",
    "    Rel = Beside | NextTo | In | Above | OnTopOf | LeftOf | RightOf ;\n",
    "  lincat\n",
    "    Scene = Str ;\n",
    "    Object = Str ;\n",
    "    Relation = Rel ;\n",
    "  lin\n",
    "    z = \"0\" ;\n",
    "    s z = z ++ \"+ 1\" ;\n",
    "    -- Basic objects and relations\n",
    "    otree = \"\\\"./graphics/tree.svg\\\"\" ;\n",
    "    ohouse = \"\\\"./graphics/house.svg\\\"\" ;\n",
    "    ogirl = \"\\\"./graphics/girl.svg\\\"\" ;\n",
    "    obox = \"\\\"./graphics/box.svg\\\"\" ;\n",
    "    oball = \"\\\"./graphics/ball.svg\\\"\" ;\n",
    "    operson = \"\\\"./graphics/person.svg\\\"\" ;\n",
    "    osun = \"\\\"./graphics/sun.svg\\\"\" ;\n",
    "    otable = \"\\\"./graphics/table.svg\\\"\" ;\n",
    "    rontopof = OnTopOf ;\n",
    "    rin = In ;\n",
    "    rabove = Above ; \n",
    "    rbeside = Beside ;\n",
    "    rleftof = LeftOf ;\n",
    "    rrightof = RightOf ;\n",
    "    rnextto = NextTo ;\n",
    "    -- Put everything together as a scene\n",
    "    constraintPlace o1 o2 x1 y1 x2 y2 r vr vp =\n",
    "      let\n",
    "\twidth= case r of {\n",
    "\t  In => \"\\\"80\\\"\";\n",
    "\t  _ => \"\\\"100\\\"\"\n",
    "\t  } ;\n",
    "\txoffset= case r of {\n",
    "\t  In => \"10\" ;\n",
    "\t  _ => \"0\"\n",
    "\t  } ;\n",
    "      in\n",
    "      -- \"<html>\\n\" ++\n",
    "      case r of { _ => \"\" } ++ \n",
    "      case vr of { _ => \"\" } ++ \n",
    "      case vp of { _ => \"\" } ++\n",
    "      \"<svg height=\\\"300\\\" width=\\\"500\\\">\" ++\n",
    "      \"<image style=\\\"x : calc((\" ++ x1 ++ \")*100 + \" ++ xoffset ++ \"); y: calc((2 - (\" ++ y1 ++ \"))*100);\\\" xlink:href=\"++ o1 ++ \" height=\\\"100\\\" width=\" ++ width ++ \" />\\n\" ++\n",
    "      \"<image style=\\\"x : calc((\" ++ x2 ++ \")*100); y: calc((2 - (\" ++ y2 ++ \"))*100);\\\" xlink:href=\"++ o2 ++ \" height=\\\"100\\\" width=\\\"100\\\"/>\\n\" ++\n",
    "      \"</svg>\\n\"\n",
    "      -- ++ \"</html>\\n\"\n",
    "      ;\n",
    "} ;"
   ]
  },
  {
   "cell_type": "code",
   "execution_count": 31,
   "metadata": {},
   "outputs": [
    {
     "data": {
      "text/plain": [
       "<svg height=\"300\" width=\"500\"> <image style=\"x : calc(( 0 + 1 + 1 )*100 + 0 ); y: calc((2 - ( 0 ))*100);\" xlink:href= \"./graphics/ball.svg\" height=\"100\" width= \"100\" /> <image style=\"x : calc(( 0 + 1 + 1 + 1 )*100); y: calc((2 - ( 0 ))*100);\" xlink:href= \"./graphics/house.svg\" height=\"100\" width=\"100\"/> </svg>\n"
      ]
     },
     "metadata": {},
     "output_type": "display_data"
    }
   ],
   "source": [
    "gr -depth=8 | l -lang=HTML"
   ]
  },
  {
   "cell_type": "markdown",
   "metadata": {},
   "source": [
    "%% HTML\n",
    "<svg height=\"300\" width=\"500\"> <image style=\"x : calc(( 0 + 1 )*100 + 10 ); y: calc((2 - ( 0 ))*100);\" xlink:href= \"./graphics/person.svg\" height=\"100\" width= \"80\" /> <image style=\"x : calc(( 0 + 1 )*100); y: calc((2 - ( 0 ))*100);\" xlink:href= \"./graphics/house.svg\" height=\"100\" width=\"100\"/> </svg>"
   ]
  },
  {
   "cell_type": "markdown",
   "metadata": {},
   "source": [
    "### Prolog(ish)"
   ]
  },
  {
   "cell_type": "code",
   "execution_count": 32,
   "metadata": {},
   "outputs": [
    {
     "name": "stdout",
     "output_type": "stream",
     "text": [
      "/tmp/tmpgdlt2z_n/SpatialProlog.gf\n"
     ]
    },
    {
     "data": {
      "text/plain": [
       "Defined SpatialProlog"
      ]
     },
     "metadata": {},
     "output_type": "display_data"
    }
   ],
   "source": [
    "concrete SpatialProlog of Spatial = SpatialI ** open Prelude in {\n",
    "  lincat Object, Relation, Scene, EditScene, FreeScene = Str ;\n",
    "  lin\n",
    "    oball = \"ball\" ;\n",
    "    obox = \"box\";\n",
    "    ogirl = \"girl\" ;\n",
    "    ohouse = \"house\" ;\n",
    "    operson = \"person\" ;\n",
    "    osun = \"sun\" ;\n",
    "    otable = \"table\" ;\n",
    "    otree = \"tree\" ;\n",
    "    rabove = \"above\" ;\n",
    "    rbeside = \"beside\" ;\n",
    "    rin = \"in\" ;\n",
    "    rleftof = \"leftOf\" ;\n",
    "    rnextto = \"nextTo\" ;\n",
    "    rontopof = \"onTopOf\" ;\n",
    "    rrightof = \"rightOf\" ;\n",
    "    constraintPlace o1 o2 x1 y1 x2 y2 r _ _ =  mkScene o1 o2 x1 y1 x2 y2 r ;\n",
    "    freePlace o1 o2 r _ = mkScene o1 o2 r \"\" \"\" \"\" \"\" ;\n",
    "    freeEdit o1 o2 r = mkScene o1 o2 r \"\" \"\" \"\" \"\" ;\n",
    "  oper\n",
    "    mkScene : Str -> Str -> Str -> Str -> Str -> Str -> Str -> Str =\n",
    "      \\o1,o2,x1,y1,x2,y2,r ->\n",
    "      \"scene :-\" ++ \"\\n\"\n",
    "      ++ \"\\t\" ++ o1 ++ BIND ++ \"(X),\\n\"\n",
    "      ++ \"\\t\" ++ o2 ++ BIND ++ \"(Y),\\n\"\n",
    "      ++ \"\\t\" ++ \"pos(X,\" ++ x1 ++ \",\" ++ y1 ++ \").\\n\"\n",
    "      ++ \"\\t\" ++ \"pos(Y,\" ++ x2 ++ \",\" ++ y2 ++ \").\\n\"\n",
    "      ++ \"\\t\" ++ r  ++ BIND ++ \"(X,Y).\\n\"\n",
    "      ;\n",
    "}"
   ]
  },
  {
   "cell_type": "code",
   "execution_count": 33,
   "metadata": {},
   "outputs": [
    {
     "data": {
      "text/plain": [
       "the girl is in the house\n",
       "scene :- \n",
       " \t girl &+ (X),\n",
       " \t house &+ (Y),\n",
       " \t pos(X, 1+ 1+ 0 , 0 ).\n",
       " \t pos(Y, 1+ 1+ 0 , 0 ).\n",
       " \t in &+ (X,Y).\n"
      ]
     },
     "metadata": {},
     "output_type": "display_data"
    }
   ],
   "source": [
    "gr -depth=8  | l -lang=Eng,Prolog"
   ]
  },
  {
   "cell_type": "markdown",
   "metadata": {},
   "source": [
    "## Problem"
   ]
  },
  {
   "cell_type": "code",
   "execution_count": 12,
   "metadata": {},
   "outputs": [
    {
     "data": {
      "text/plain": [
       "equal z\n"
      ]
     },
     "metadata": {},
     "output_type": "display_data"
    }
   ],
   "source": [
    "gt -cat=\"IsEqual ? z\""
   ]
  },
  {
   "cell_type": "code",
   "execution_count": 13,
   "metadata": {},
   "outputs": [
    {
     "data": {
      "text/plain": [
       "src/runtime/haskell/PGF/TypeCheck.hs:(178,35)-(179,54): Non-exhaustive patterns in case\n"
      ]
     },
     "metadata": {},
     "output_type": "display_data"
    }
   ],
   "source": [
    "gt -cat=\"IsEqual z ?\""
   ]
  },
  {
   "cell_type": "markdown",
   "metadata": {},
   "source": [
    "src/runtime/haskell/PGF/TypeCheck.hs:(178,35)-(179,54): \n",
    "\n",
    "```\n",
    "getMeta :: MetaId -> TcM s (MetaValue s)\n",
    "getMeta i = TcM (\\abstr k h ms -> case IntMap.lookup i ms of\n",
    "                                    Just mv -> k mv ms)\n",
    "```"
   ]
  },
  {
   "cell_type": "code",
   "execution_count": 36,
   "metadata": {},
   "outputs": [
    {
     "data": {
      "text/plain": [
       "Expression:  constraintPlace ogirl ohouse ?3 ?4 ?5 ?6 rin ?8 ?9\n",
       "Type:        Scene\n",
       "Probability: 2.232142857142857e-3\n"
      ]
     },
     "metadata": {},
     "output_type": "display_data"
    }
   ],
   "source": [
    "p -cat=Scene \"the girl is in the house\" | ai"
   ]
  },
  {
   "cell_type": "code",
   "execution_count": null,
   "metadata": {},
   "outputs": [],
   "source": []
  }
 ],
 "metadata": {
  "kernelspec": {
   "display_name": "GF",
   "language": "gf",
   "name": "gf"
  },
  "language_info": {
   "file_extension": ".gf",
   "mimetype": "text/gf",
   "name": "gf"
  }
 },
 "nbformat": 4,
 "nbformat_minor": 2
}
