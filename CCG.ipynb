{
 "cells": [
  {
   "cell_type": "markdown",
   "metadata": {
    "slideshow": {
     "slide_type": "slide"
    }
   },
   "source": [
    "# Combinatory Categorial Grammars in GF"
   ]
  },
  {
   "cell_type": "markdown",
   "metadata": {
    "slideshow": {
     "slide_type": "slide"
    }
   },
   "source": [
    " ## Basics\n",
    " \n"
   ]
  },
  {
   "cell_type": "markdown",
   "metadata": {
    "slideshow": {
     "slide_type": "subslide"
    }
   },
   "source": [
    " * Few Basic Types (N,S,NP)\n",
    " * Directed Function Types $(X/Y),(X\\backslash Y)$\n",
    " * Complex Types in the Lexicon, e.g. $bite\\ :\\ (S\\backslash NP)/NP$"
   ]
  },
  {
   "cell_type": "markdown",
   "metadata": {},
   "source": [
    "## Combinators"
   ]
  },
  {
   "cell_type": "markdown",
   "metadata": {},
   "source": [
    " * Function Application: $$>:\\frac{\\alpha : X/Y\\quad \\beta : Y}{\\alpha\\beta : X}$$,$$<:\\frac{\\beta : X\\quad \\alpha : Y\\backslash X}{\\beta\\alpha : Y}$$\n",
    " * Function Composition $$B_>: \\frac{\\alpha : X/Y\\quad \\beta : Y/Z}{\\alpha\\beta : X/Z}$$,$$B_<:\\frac{\\beta : Y\\backslash Z\\quad \\alpha : X\\backslash Y}{\\beta\\alpha X\\backslash Z}$$\n",
    " * Type Raising $$T_>: \\frac{\\alpha : X}{\\alpha : T/(T\\backslash X)}$$,$$T_<: \\frac{\\alpha : X}{\\alpha : T\n",
    " \\backslash(T/ X)}$$"
   ]
  },
  {
   "cell_type": "markdown",
   "metadata": {},
   "source": [
    "## Abstract Syntax"
   ]
  },
  {
   "cell_type": "code",
   "execution_count": 1,
   "metadata": {},
   "outputs": [
    {
     "name": "stdout",
     "output_type": "stream",
     "text": [
      "/tmp/tmprkfcryh2/CGAbs.gf\n"
     ]
    },
    {
     "data": {
      "text/plain": [
       "Defined CGAbs"
      ]
     },
     "metadata": {},
     "output_type": "display_data"
    }
   ],
   "source": [
    "abstract CGAbs = {\n",
    "  flags startcat = Sentence ;\n",
    "  cat Cat ;\n",
    "      CGType ;\n",
    "      CG CGType ;\n",
    "      Sentence ;\n",
    "  data\n",
    "    Single : Cat -> CGType ;\n",
    "    FSlash : CGType -> CGType -> CGType ;\n",
    "    BSlash : CGType -> CGType -> CGType ;\n",
    "\n",
    "  fun\n",
    "    -- To form startcat\n",
    "    complete : CG (Single S) -> Sentence ;\n",
    "    -- The categories\n",
    "    N : Cat ;\n",
    "    S : Cat ;\n",
    "    NP : Cat ;\n",
    "    -- The combinators\n",
    "    -- Function composition\n",
    "    FB : ({x,y,z} : CGType) -> CG (FSlash x y) -> CG (FSlash y z) -> CG (FSlash x z) ;\n",
    "    BB : ({z,y,x} : CGType) -> CG (BSlash z y) -> CG (BSlash y x) -> CG (BSlash z x) ;\n",
    "    -- Function application\n",
    "    FS : ({x,y} : CGType) -> CG (FSlash x y) -> CG y -> CG x ;\n",
    "    BS : ({y,x} : CGType) -> CG y -> CG (BSlash x y) -> CG x ;\n",
    "    -- Type raising\n",
    "    -- X -> T -> T/(T\\X)\n",
    "    FT : ({x,t} : CGType) -> CG x -> CG (FSlash t (BSlash t x)) ;\n",
    "    -- X -> T -> T\\(T/X)\n",
    "    BT : ({x,t} : CGType) -> CG x -> CG (BSlash t (FSlash t x)) ;\n",
    "\n",
    "    -- The lexicon\n",
    "    -- man : CG (Single N) ;\n",
    "    -- sleeps : CG (BSlash (Single N) (Single S)) ;\n",
    "    -- john : CG (Single N) ;\n",
    "    -- mary : CG (Single N) ;\n",
    "    -- loves : CG (FSlash (BSlash (Single N) (Single S)) (Single N));\n",
    "    -- the : CG (FSlash (Single N) (Single N));\n",
    "    -- that : CG (FSlash (Single N) (Single N));\n",
    "    -- small : CG (FSlash (Single N) (Single N));\n",
    "    -- hungry : CG (FSlash (Single N) (Single N));\n",
    "    -- brown : CG (FSlash (Single N) (Single N));\n",
    "    -- dog : CG (Single N) ;\n",
    "    the : CG (FSlash (Single NP) (Single N)) ;\n",
    "    dog : CG (Single N) ; \n",
    "    bit : CG (FSlash (BSlash (Single S) (Single NP)) (Single NP)) ;\n",
    "    john : CG (Single NP) ;\n",
    "\n",
    "}"
   ]
  },
  {
   "cell_type": "markdown",
   "metadata": {},
   "source": [
    "### Example Derivation"
   ]
  },
  {
   "cell_type": "markdown",
   "metadata": {},
   "source": [
    "Sentence: the dog bit john\n",
    "\n",
    "$$\\frac{\\frac{the:NP/N\\quad dog:N}{the\\ dog:NP} >\\quad\\frac{bit:(NP\\backslash S)/NP\\quad john:NP}{bit\\ john:NP\\backslash S}>}{the\\ dog\\ bit\\ john:S}>$$"
   ]
  },
  {
   "cell_type": "code",
   "execution_count": 2,
   "metadata": {},
   "outputs": [
    {
     "data": {
      "text/plain": [
       "fun dog : CG (Single N) ;\n",
       "Probability: 0.1\n"
      ]
     },
     "metadata": {},
     "output_type": "display_data"
    }
   ],
   "source": [
    "ai dog"
   ]
  },
  {
   "cell_type": "code",
   "execution_count": 3,
   "metadata": {},
   "outputs": [
    {
     "data": {
      "text/plain": [
       "fun the : CG (FSlash (Single NP) (Single N)) ;\n",
       "Probability: 0.1\n"
      ]
     },
     "metadata": {},
     "output_type": "display_data"
    }
   ],
   "source": [
    "ai the"
   ]
  },
  {
   "cell_type": "markdown",
   "metadata": {},
   "source": [
    "$$ \\frac{the:NP/N\\quad dog:N}{the\\ dog:NP} >$$"
   ]
  },
  {
   "cell_type": "code",
   "execution_count": 4,
   "metadata": {},
   "outputs": [
    {
     "data": {
      "text/plain": [
       "Expression:  FS {Single NP} {Single N} the dog\n",
       "Type:        CG (Single NP)\n",
       "Probability: 1.0000000000000002e-3\n"
      ]
     },
     "metadata": {},
     "output_type": "display_data"
    }
   ],
   "source": [
    "ai (FS the dog)"
   ]
  },
  {
   "cell_type": "markdown",
   "metadata": {},
   "source": [
    "$$\\frac{bit:(NP\\backslash S)/NP\\quad john:NP}{bit\\ john:NP\\backslash S}>$$"
   ]
  },
  {
   "cell_type": "code",
   "execution_count": 5,
   "metadata": {},
   "outputs": [
    {
     "data": {
      "text/plain": [
       "Expression:  FS {BSlash (Single S) (Single NP)} {Single NP} bit john\n",
       "Type:        CG (BSlash (Single S) (Single NP))\n",
       "Probability: 1.0000000000000002e-3\n"
      ]
     },
     "metadata": {},
     "output_type": "display_data"
    }
   ],
   "source": [
    "ai (FS bit john)"
   ]
  },
  {
   "cell_type": "markdown",
   "metadata": {},
   "source": [
    "$$\\frac{the\\ dog:NP\\quad bit\\ john:NP\\backslash S}{the\\ dog\\ bit\\ john:S}>$$"
   ]
  },
  {
   "cell_type": "code",
   "execution_count": 6,
   "metadata": {},
   "outputs": [
    {
     "data": {
      "text/plain": [
       "Expression:  BS {Single NP} {Single S} (FS {Single NP} {Single N} the dog) (FS {BSlash (Single S) (Single NP)} {Single NP} bit john)\n",
       "Type:        CG (Single S)\n",
       "Probability: 1.0000000000000006e-7\n"
      ]
     },
     "metadata": {},
     "output_type": "display_data"
    }
   ],
   "source": [
    "ai (BS (FS the dog) (FS bit john))"
   ]
  },
  {
   "cell_type": "markdown",
   "metadata": {},
   "source": [
    "Derivation using type raisng and function composition"
   ]
  },
  {
   "cell_type": "code",
   "execution_count": 7,
   "metadata": {},
   "outputs": [
    {
     "data": {
      "text/plain": [
       "Expression:  FS {Single NP} {Single N} the dog\n",
       "Type:        CG (Single NP)\n",
       "Probability: 1.0000000000000002e-3\n"
      ]
     },
     "metadata": {},
     "output_type": "display_data"
    }
   ],
   "source": [
    "ai (FS the dog)"
   ]
  },
  {
   "cell_type": "markdown",
   "metadata": {},
   "source": [
    "Type raising"
   ]
  },
  {
   "cell_type": "code",
   "execution_count": 8,
   "metadata": {},
   "outputs": [
    {
     "data": {
      "text/plain": [
       "Expression:  FT {Single NP} {?2} (FS {Single NP} {Single N} the dog)\n",
       "Type:        CG (FSlash ?2 (BSlash ?2 (Single NP)))\n",
       "Probability: 1.0000000000000003e-4\n"
      ]
     },
     "metadata": {},
     "output_type": "display_data"
    }
   ],
   "source": [
    "ai (FT (FS the dog))"
   ]
  },
  {
   "cell_type": "markdown",
   "metadata": {},
   "source": [
    "Function composition"
   ]
  },
  {
   "cell_type": "code",
   "execution_count": 9,
   "metadata": {},
   "outputs": [
    {
     "data": {
      "text/plain": [
       "Expression:  FB {Single S} {BSlash (Single S) (Single NP)} {Single NP} (FT {Single NP} {Single S} (FS {Single NP} {Single N} the dog)) bit\n",
       "Type:        CG (FSlash (Single S) (Single NP))\n",
       "Probability: 1.0000000000000004e-6\n"
      ]
     },
     "metadata": {},
     "output_type": "display_data"
    }
   ],
   "source": [
    "ai (FB (FT (FS the dog)) bit)"
   ]
  },
  {
   "cell_type": "code",
   "execution_count": 10,
   "metadata": {},
   "outputs": [
    {
     "data": {
      "text/plain": [
       "Expression:  FS {Single S} {Single NP} (FB {Single S} {BSlash (Single S) (Single NP)} {Single NP} (FT {Single NP} {Single S} (FS {Single NP} {Single N} the dog)) bit) john\n",
       "Type:        CG (Single S)\n",
       "Probability: 1.0000000000000005e-8\n"
      ]
     },
     "metadata": {},
     "output_type": "display_data"
    }
   ],
   "source": [
    "ai (FS (FB (FT (FS the dog)) bit) john)"
   ]
  },
  {
   "cell_type": "markdown",
   "metadata": {},
   "source": [
    "### Problem"
   ]
  },
  {
   "cell_type": "code",
   "execution_count": null,
   "metadata": {},
   "outputs": [],
   "source": [
    "gt -cat=\"IsEqual ? z\""
   ]
  },
  {
   "cell_type": "markdown",
   "metadata": {},
   "source": [
    "## Concrete Syntax"
   ]
  },
  {
   "cell_type": "markdown",
   "metadata": {},
   "source": [
    "### Boilerplate"
   ]
  },
  {
   "cell_type": "code",
   "execution_count": 11,
   "metadata": {},
   "outputs": [
    {
     "name": "stdout",
     "output_type": "stream",
     "text": [
      "/tmp/tmpcz186jwa/CGFun.gf\n"
     ]
    },
    {
     "data": {
      "text/plain": [
       "Defined CGFun"
      ]
     },
     "metadata": {},
     "output_type": "display_data"
    }
   ],
   "source": [
    "incomplete concrete CGFun of CGAbs = open Prelude, Predef in {\n",
    "  lincat\n",
    "    Cat, CGType, CG = Str ;\n",
    "    Sentence = SS ;\n",
    "  lin\n",
    "    N = \"\" ;\n",
    "    S = \"\" ;\n",
    "    NP = \"\" ;\n",
    "    Single c = c ;\n",
    "    FSlash c1 c2 = c1 ++ c2 ;\n",
    "    BSlash c2 c1 = c2 ++ c1 ;\n",
    "    \n",
    "    FB x y z xy yz = x ++ y ++ z ++ xy ++ yz ;\n",
    "    BB x y z zy yx = x ++ y ++ z ++ zy ++ yx ;\n",
    "    FS x y xy y2 = x ++ y ++ xy ++ y2 ;\n",
    "    BS x y y2 yx = x ++ y ++ y2 ++ yx ;\n",
    "    FT x y x2 = x ++ y ++ x2 ;\n",
    "    BT x y x2 = x ++ y ++ x2 ;\n",
    "    complete s = ss s ;\n",
    "}"
   ]
  },
  {
   "cell_type": "markdown",
   "metadata": {},
   "source": [
    "### English"
   ]
  },
  {
   "cell_type": "code",
   "execution_count": 12,
   "metadata": {},
   "outputs": [
    {
     "name": "stdout",
     "output_type": "stream",
     "text": [
      "/tmp/tmpcz186jwa/CGEng.gf\n"
     ]
    },
    {
     "data": {
      "text/plain": [
       "Defined CGEng"
      ]
     },
     "metadata": {},
     "output_type": "display_data"
    }
   ],
   "source": [
    "concrete CGEng of CGAbs = CGFun with (Prelude=Prelude),(Predef=Predef) ** {\n",
    "  lin\n",
    "    -- man = \"man\" ;\n",
    "    -- sleeps = \"sleeps\" ;\n",
    "    -- john = \"John\" ;\n",
    "    -- mary = \"Mary\" ;\n",
    "    -- loves = \"loves\" ;\n",
    "    the = \"the\" ;\n",
    "    -- that = \"that\" ;\n",
    "    -- small = \"small\" ;\n",
    "    -- hungry = \"hungry\" ;\n",
    "    -- brown = \"brown\" ;\n",
    "    dog = \"dog\" ;\n",
    "    bit = \"bit\" ;\n",
    "    john = \"John\" ;\n",
    "}"
   ]
  },
  {
   "cell_type": "code",
   "execution_count": 13,
   "metadata": {},
   "outputs": [
    {
     "data": {
      "text/plain": [
       "the dog bit John\n"
      ]
     },
     "metadata": {},
     "output_type": "display_data"
    }
   ],
   "source": [
    "l (BS (FS the dog) (FS bit john))"
   ]
  },
  {
   "cell_type": "code",
   "execution_count": 14,
   "metadata": {},
   "outputs": [
    {
     "data": {
      "text/plain": [
       "the dog bit John\n"
      ]
     },
     "metadata": {},
     "output_type": "display_data"
    }
   ],
   "source": [
    "l (FS (FB (FT (FS the dog)) bit) john)"
   ]
  },
  {
   "cell_type": "markdown",
   "metadata": {},
   "source": [
    "### Problem"
   ]
  },
  {
   "cell_type": "code",
   "execution_count": null,
   "metadata": {},
   "outputs": [],
   "source": [
    "p -cat=Sentence -lang=CGEng \"the dog bit John\""
   ]
  },
  {
   "cell_type": "markdown",
   "metadata": {},
   "source": [
    "```\n",
    "CGAbs> p -cat=Sentence \"the dog bit John\"\n",
    "The parsing is successful but the type checking failed with error(s):\n",
    "  Couldn't match expected type CG (BSlash (Single N) (Single N))\n",
    "         against inferred type CG (FSlash (Single NP) (Single N))\n",
    "  In the expression: the\n",
    "  Couldn't match expected type CG (BSlash (Single N) (Single NP))\n",
    "         against inferred type CG (FSlash (Single NP) (Single N))\n",
    "  In the expression: the\n",
    "  Couldn't match expected type CG (BSlash (Single N) (Single S))\n",
    "         against inferred type CG (FSlash (Single NP) (Single N))\n",
    "  In the expression: the\n",
    "  Couldn't match expected type CG (BSlash (Single NP) (Single N))\n",
    "         against inferred type CG (FSlash (Single NP) (Single N))\n",
    "  In the expression: the\n",
    "  Couldn't match expected type CG (BSlash (Single NP) (Single NP))\n",
    "         against inferred type CG (FSlash (Single NP) (Single N))\n",
    "  In the expression: the\n",
    "  Couldn't match expected type CG (BSlash (Single NP) (Single S))\n",
    "         against inferred type CG (FSlash (Single NP) (Single N))\n",
    "  In the expression: the\n",
    "  Couldn't match expected type CG (BSlash (Single S) (Single N))\n",
    "         against inferred type CG (FSlash (Single NP) (Single N))\n",
    "  In the expression: the\n",
    "  Couldn't match expected type CG (BSlash (Single S) (Single NP))\n",
    "         against inferred type CG (FSlash (Single NP) (Single N))\n",
    "  In the expression: the\n",
    "  Couldn't match expected type CG (BSlash (Single S) (Single S))\n",
    "         against inferred type CG (FSlash (Single NP) (Single N))\n",
    "  In the expression: the\n",
    "  Couldn't match expected type CG (Single N)\n",
    "         against inferred type CG (FSlash (Single NP) (Single N))\n",
    "  In the expression: the\n",
    "  Couldn't match expected type CG (Single NP)\n",
    "         against inferred type CG (FSlash (Single NP) (Single N))\n",
    "  In the expression: the\n",
    "  Couldn't match expected type CG (Single S)\n",
    "         against inferred type CG (FSlash (Single NP) (Single N))\n",
    "  In the expression: the\n",
    "  Couldn't match expected type CG (FSlash (Single N) (Single N))\n",
    "         against inferred type CG (FSlash (Single NP) (Single N))\n",
    "  In the expression: the\n",
    "  Couldn't match expected type CG (FSlash (Single N) (Single NP))\n",
    "         against inferred type CG (FSlash (Single NP) (Single N))\n",
    "  In the expression: the\n",
    "  Couldn't match expected type CG (FSlash (Single N) (Single S))\n",
    "         against inferred type CG (FSlash (Single NP) (Single N))\n",
    "  In the expression: the\n",
    "  Couldn't match expected type CG (FSlash (Single N) (Single N))\n",
    "         against inferred type CG (Single N)\n",
    "  In the expression: dog\n",
    "  Couldn't match expected type CG (FSlash (Single N) (Single NP))\n",
    "         against inferred type CG (Single N)\n",
    "  In the expression: dog\n",
    "  Couldn't match expected type CG (FSlash (Single N) (Single S))\n",
    "         against inferred type CG (Single N)\n",
    "  In the expression: dog\n",
    "  Couldn't match expected type CG (FSlash (Single NP) (Single NP))\n",
    "         against inferred type CG (FSlash (Single NP) (Single N))\n",
    "  In the expression: the\n",
    "  Couldn't match expected type CG (FSlash (Single NP) (Single S))\n",
    "         against inferred type CG (FSlash (Single NP) (Single N))\n",
    "  In the expression: the\n",
    "  Couldn't match expected type CG (FSlash (Single S) (Single N))\n",
    "         against inferred type CG (FSlash (Single NP) (Single N))\n",
    "  In the expression: the\n",
    "  Couldn't match expected type CG (FSlash (Single S) (Single NP))\n",
    "         against inferred type CG (FSlash (Single NP) (Single N))\n",
    "  In the expression: the\n",
    "  Couldn't match expected type CG (FSlash (Single S) (Single S))\n",
    "         against inferred type CG (FSlash (Single NP) (Single N))\n",
    "  In the expression: the\n",
    "  Couldn't match expected type CG (BSlash (Single N) (Single N))\n",
    "         against inferred type CG (Single NP)\n",
    "  In the expression: FS {Single NP} {Single N} the dog\n",
    "  Couldn't match expected type CG (BSlash (Single N) (Single NP))\n",
    "         against inferred type CG (Single NP)\n",
    "  In the expression: FS {Single NP} {Single N} the dog\n",
    "  Couldn't match expected type CG (BSlash (Single N) (Single S))\n",
    "         against inferred type CG (Single NP)\n",
    "  In the expression: FS {Single NP} {Single N} the dog\n",
    "  Couldn't match expected type CG (BSlash (Single NP) (Single N))\n",
    "         against inferred type CG (Single NP)\n",
    "  In the expression: FS {Single NP} {Single N} the dog\n",
    "  Couldn't match expected type CG (BSlash (Single NP) (Single NP))\n",
    "         against inferred type CG (Single NP)\n",
    "  In the expression: FS {Single NP} {Single N} the dog\n",
    "  Couldn't match expected type CG (BSlash (Single NP) (Single S))\n",
    "         against inferred type CG (Single NP)\n",
    "  In the expression: FS {Single NP} {Single N} the dog\n",
    "  Couldn't match expected type CG (BSlash (Single S) (Single N))\n",
    "         against inferred type CG (Single NP)\n",
    "  In the expression: FS {Single NP} {Single N} the dog\n",
    "  Couldn't match expected type CG (BSlash (Single S) (Single NP))\n",
    "         against inferred type CG (Single NP)\n",
    "  In the expression: FS {Single NP} {Single N} the dog\n",
    "  Couldn't match expected type CG (BSlash (Single S) (Single S))\n",
    "         against inferred type CG (Single NP)\n",
    "  In the expression: FS {Single NP} {Single N} the dog\n",
    "  Couldn't match expected type CG (Single N)\n",
    "         against inferred type CG (Single NP)\n",
    "  In the expression: FS {Single NP} {Single N} the dog\n",
    "  Couldn't match expected type CG (BSlash (Single N) (Single NP))\n",
    "         against inferred type CG (FSlash (BSlash (Single S) (Single NP)) (Single NP))\n",
    "  In the expression: bit\n",
    "  Couldn't match expected type CG (BSlash (Single NP) (Single NP))\n",
    "         against inferred type CG (FSlash (BSlash (Single S) (Single NP)) (Single NP))\n",
    "  In the expression: bit\n",
    "  Couldn't match expected type CG (BSlash (Single S) (Single NP))\n",
    "         against inferred type CG (FSlash (BSlash (Single S) (Single NP)) (Single NP))\n",
    "  In the expression: bit\n",
    "  Couldn't match expected type CG (Single S)\n",
    "         against inferred type CG (Single NP)\n",
    "  In the expression: FS {Single NP} {Single N} the dog\n",
    "  Couldn't match expected type CG (BSlash (Single N) (Single N))\n",
    "         against inferred type CG (Single N)\n",
    "  In the expression: dog\n",
    "  Couldn't match expected type CG (BSlash (Single N) (Single NP))\n",
    "         against inferred type CG (Single N)\n",
    "  In the expression: dog\n",
    "  Couldn't match expected type CG (BSlash (Single N) (Single S))\n",
    "         against inferred type CG (Single N)\n",
    "  In the expression: dog\n",
    "  Couldn't match expected type CG (BSlash (Single NP) (Single N))\n",
    "         against inferred type CG (Single N)\n",
    "  In the expression: dog\n",
    "  Couldn't match expected type CG (BSlash (Single NP) (Single NP))\n",
    "         against inferred type CG (Single N)\n",
    "  In the expression: dog\n",
    "  Couldn't match expected type CG (BSlash (Single NP) (Single S))\n",
    "         against inferred type CG (Single N)\n",
    "  In the expression: dog\n",
    "  Couldn't match expected type CG (BSlash (Single S) (Single N))\n",
    "         against inferred type CG (Single N)\n",
    "  In the expression: dog\n",
    "  Couldn't match expected type CG (BSlash (Single S) (Single NP))\n",
    "         against inferred type CG (Single N)\n",
    "  In the expression: dog\n",
    "  Couldn't match expected type CG (BSlash (Single S) (Single S))\n",
    "         against inferred type CG (Single N)\n",
    "  In the expression: dog\n",
    "  Couldn't match expected type CG (BSlash (Single N) (Single N))\n",
    "         against inferred type CG (FSlash (BSlash (Single S) (Single NP)) (Single NP))\n",
    "  In the expression: bit\n",
    "  Couldn't match expected type CG (BSlash (Single NP) (Single N))\n",
    "         against inferred type CG (FSlash (BSlash (Single S) (Single NP)) (Single NP))\n",
    "  In the expression: bit\n",
    "  Couldn't match expected type CG (BSlash (Single S) (Single N))\n",
    "         against inferred type CG (FSlash (BSlash (Single S) (Single NP)) (Single NP))\n",
    "  In the expression: bit\n",
    "  Couldn't match expected type CG (Single NP)\n",
    "         against inferred type CG (Single N)\n",
    "  In the expression: dog\n",
    "  Couldn't match expected type CG (Single S)\n",
    "         against inferred type CG (Single N)\n",
    "  In the expression: dog\n",
    "  Couldn't match expected type CG (FSlash (Single NP) (Single N))\n",
    "         against inferred type CG (Single N)\n",
    "  In the expression: dog\n",
    "  Couldn't match expected type CG (FSlash (Single NP) (Single NP))\n",
    "         against inferred type CG (Single N)\n",
    "  In the expression: dog\n",
    "  Couldn't match expected type CG (FSlash (Single NP) (Single S))\n",
    "         against inferred type CG (Single N)\n",
    "  In the expression: dog\n",
    "  Couldn't match expected type CG (FSlash (Single S) (Single N))\n",
    "         against inferred type CG (Single N)\n",
    "  In the expression: dog\n",
    "  Couldn't match expected type CG (FSlash (Single S) (Single NP))\n",
    "         against inferred type CG (Single N)\n",
    "  In the expression: dog\n",
    "  Couldn't match expected type CG (FSlash (Single S) (Single S))\n",
    "         against inferred type CG (Single N)\n",
    "  In the expression: dog\n",
    "  Couldn't match expected type CG (FSlash (Single N) (Single N))\n",
    "         against inferred type CG (Single NP)\n",
    "  In the expression: FS {Single NP} {Single N} the dog\n",
    "  Couldn't match expected type CG (FSlash (Single N) (Single NP))\n",
    "         against inferred type CG (Single NP)\n",
    "  In the expression: FS {Single NP} {Single N} the dog\n",
    "  Couldn't match expected type CG (FSlash (Single N) (Single S))\n",
    "         against inferred type CG (Single NP)\n",
    "  In the expression: FS {Single NP} {Single N} the dog\n",
    "  Couldn't match expected type CG (FSlash (Single NP) (Single N))\n",
    "         against inferred type CG (Single NP)\n",
    "  In the expression: FS {Single NP} {Single N} the dog\n",
    "  Couldn't match expected type CG (FSlash (Single NP) (Single NP))\n",
    "         against inferred type CG (Single NP)\n",
    "  In the expression: FS {Single NP} {Single N} the dog\n",
    "  Couldn't match expected type CG (FSlash (Single NP) (Single S))\n",
    "         against inferred type CG (Single NP)\n",
    "  In the expression: FS {Single NP} {Single N} the dog\n",
    "  Couldn't match expected type CG (FSlash (Single S) (Single N))\n",
    "         against inferred type CG (Single NP)\n",
    "  In the expression: FS {Single NP} {Single N} the dog\n",
    "  Couldn't match expected type CG (FSlash (Single S) (Single NP))\n",
    "         against inferred type CG (Single NP)\n",
    "  In the expression: FS {Single NP} {Single N} the dog\n",
    "  Couldn't match expected type CG (FSlash (Single S) (Single S))\n",
    "         against inferred type CG (Single NP)\n",
    "  In the expression: FS {Single NP} {Single N} the dog\n",
    "  Couldn't match expected type CG (BSlash (Single N) (Single S))\n",
    "         against inferred type CG (FSlash (BSlash (Single S) (Single NP)) (Single NP))\n",
    "  In the expression: bit\n",
    "  Couldn't match expected type CG (BSlash (Single NP) (Single S))\n",
    "         against inferred type CG (FSlash (BSlash (Single S) (Single NP)) (Single NP))\n",
    "  In the expression: bit\n",
    "  Couldn't match expected type CG (BSlash (Single S) (Single S))\n",
    "         against inferred type CG (FSlash (BSlash (Single S) (Single NP)) (Single NP))\n",
    "  In the expression: bit\n",
    "  Couldn't match expected type CG (Single N)\n",
    "         against inferred type CG (FSlash (BSlash (Single S) (Single NP)) (Single NP))\n",
    "  In the expression: bit\n",
    "  Couldn't match expected type CG (Single NP)\n",
    "         against inferred type CG (FSlash (BSlash (Single S) (Single NP)) (Single NP))\n",
    "  In the expression: bit\n",
    "  Couldn't match expected type CG (Single S)\n",
    "         against inferred type CG (FSlash (BSlash (Single S) (Single NP)) (Single NP))\n",
    "  In the expression: bit\n",
    "  Couldn't match expected type CG (FSlash (Single N) (Single N))\n",
    "         against inferred type CG (FSlash (BSlash (Single S) (Single NP)) (Single NP))\n",
    "  In the expression: bit\n",
    "  Couldn't match expected type CG (FSlash (Single N) (Single NP))\n",
    "         against inferred type CG (FSlash (BSlash (Single S) (Single NP)) (Single NP))\n",
    "  In the expression: bit\n",
    "  Couldn't match expected type CG (FSlash (Single N) (Single S))\n",
    "         against inferred type CG (FSlash (BSlash (Single S) (Single NP)) (Single NP))\n",
    "  In the expression: bit\n",
    "  Couldn't match expected type CG (FSlash (Single NP) (Single N))\n",
    "         against inferred type CG (FSlash (BSlash (Single S) (Single NP)) (Single NP))\n",
    "  In the expression: bit\n",
    "  Couldn't match expected type CG (FSlash (Single NP) (Single NP))\n",
    "         against inferred type CG (FSlash (BSlash (Single S) (Single NP)) (Single NP))\n",
    "  In the expression: bit\n",
    "  Couldn't match expected type CG (FSlash (Single NP) (Single S))\n",
    "         against inferred type CG (FSlash (BSlash (Single S) (Single NP)) (Single NP))\n",
    "  In the expression: bit\n",
    "  Couldn't match expected type CG (FSlash (Single S) (Single N))\n",
    "         against inferred type CG (FSlash (BSlash (Single S) (Single NP)) (Single NP))\n",
    "  In the expression: bit\n",
    "  Couldn't match expected type CG (FSlash (Single S) (Single NP))\n",
    "         against inferred type CG (FSlash (BSlash (Single S) (Single NP)) (Single NP))\n",
    "  In the expression: bit\n",
    "  Couldn't match expected type CG (FSlash (Single S) (Single S))\n",
    "         against inferred type CG (FSlash (BSlash (Single S) (Single NP)) (Single NP))\n",
    "  In the expression: bit\n",
    "The parser failed at token 1: \"the\"\n",
    "133118 msec\n",
    "```"
   ]
  },
  {
   "cell_type": "code",
   "execution_count": null,
   "metadata": {},
   "outputs": [],
   "source": []
  }
 ],
 "metadata": {
  "kernelspec": {
   "display_name": "GF",
   "language": "gf",
   "name": "gf"
  },
  "language_info": {
   "file_extension": ".gf",
   "mimetype": "text/gf",
   "name": "gf"
  }
 },
 "nbformat": 4,
 "nbformat_minor": 2
}
